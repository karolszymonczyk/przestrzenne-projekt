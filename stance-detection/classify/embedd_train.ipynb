{
 "cells": [
  {
   "cell_type": "code",
   "execution_count": 14,
   "metadata": {},
   "outputs": [],
   "source": [
    "import pandas as pd\n",
    "from tqdm.auto import tqdm\n",
    "tqdm.pandas()\n",
    "\n",
    "df = pd.read_csv('../../data/demoji.tsv', sep='\\t', converters={'target': str})\n",
    "# df = pd.read_csv('../../data/tweets_train.tsv', sep='\\t', converters={'target': str})\n",
    "# df = pd.read_csv('../../data/tweets_train_clean.tsv', sep='\\t', converters={'target': str})"
   ]
  },
  {
   "cell_type": "code",
   "execution_count": 15,
   "metadata": {},
   "outputs": [
    {
     "data": {
      "text/plain": [
       "1     984\n",
       "0     753\n",
       "-1    601\n",
       "NA    161\n",
       "Name: target, dtype: int64"
      ]
     },
     "execution_count": 15,
     "metadata": {},
     "output_type": "execute_result"
    },
    {
     "data": {
      "image/png": "[encoded data removed]",
      "text/plain": [
       "<Figure size 432x288 with 1 Axes>"
      ]
     },
     "metadata": {
      "needs_background": "light"
     },
     "output_type": "display_data"
    }
   ],
   "source": [
    "df[\"target\"].value_counts().plot.bar()\n",
    "df[\"target\"].value_counts()"
   ]
  },
  {
   "cell_type": "markdown",
   "metadata": {},
   "source": [
    "### Clean tweets from *@user* and *urls*  \n",
    "\n",
    "User tags and urls are removed from tweets as they do not affect the semantics of the tweets.  \n",
    "Hashtags are keeped in tweets. \n",
    "  \n",
    "Max tweet length should be 280 characters."
   ]
  },
  {
   "cell_type": "code",
   "execution_count": 16,
   "metadata": {},
   "outputs": [],
   "source": [
    "import re\n",
    "\n",
    "def clean_tweet(tweet: str) -> str:\n",
    "    \"\"\"Removes usernames, links and additional whitespaces\"\"\"\n",
    "    wo_usernames = re.sub('@[^\\s]+', '', tweet)\n",
    "    wo_links = re.sub('http[^\\s]+','', wo_usernames)\n",
    "    wo_whitespaces = ' '.join(wo_links.split())\n",
    "    return wo_whitespaces"
   ]
  },
  {
   "cell_type": "code",
   "execution_count": 17,
   "metadata": {},
   "outputs": [
    {
     "data": {
      "text/plain": [
       "count    2499.000000\n",
       "mean      165.198079\n",
       "std        75.891760\n",
       "min        12.000000\n",
       "25%        99.000000\n",
       "50%       161.000000\n",
       "75%       231.000000\n",
       "max       468.000000\n",
       "Name: full_text, dtype: float64"
      ]
     },
     "execution_count": 17,
     "metadata": {},
     "output_type": "execute_result"
    }
   ],
   "source": [
    "df[\"full_text\"] = df[\"full_text\"].progress_apply(clean_tweet)\n",
    "df[\"full_text\"].str.len().describe()"
   ]
  },
  {
   "cell_type": "markdown",
   "metadata": {},
   "source": [
    "### Tweets embedding with LaBSE model"
   ]
  },
  {
   "cell_type": "code",
   "execution_count": 18,
   "metadata": {},
   "outputs": [],
   "source": [
    "from sentence_transformers import SentenceTransformer\n",
    "\n",
    "model = SentenceTransformer(\"sentence-transformers/LaBSE\")\n",
    "model.max_seq_length = 150"
   ]
  },
  {
   "cell_type": "code",
   "execution_count": 19,
   "metadata": {},
   "outputs": [],
   "source": [
    "df[\"embedding\"] = df[\"full_text\"].progress_apply(model.encode)\n",
    "# 20m 31s -> default\n",
    "# 42m 11s -> 150\n",
    "# 90m 3s -> 100\n",
    "\n",
    "\n",
    "# 150 demoji -> 17min"
   ]
  },
  {
   "cell_type": "code",
   "execution_count": 20,
   "metadata": {},
   "outputs": [],
   "source": [
    "df.to_json('../../data/embedded_train_demoji_150.jl', lines=True, orient='records')\n",
    "# df.to_json('../../data/embedded_train_clean.jl', lines=True, orient='records')"
   ]
  },
  {
   "cell_type": "code",
   "execution_count": null,
   "metadata": {},
   "outputs": [],
   "source": []
  }
 ],
 "metadata": {
  "interpreter": {
   "hash": "af91805feb772e5ca358e0d7e8c046b76a3384a8e0392a1e50dac8eea804f488"
  },
  "kernelspec": {
   "display_name": "Python 3.8.12 64-bit ('AMC': conda)",
   "language": "python",
   "name": "python3"
  },
  "language_info": {
   "codemirror_mode": {
    "name": "ipython",
    "version": 3
   },
   "file_extension": ".py",
   "mimetype": "text/x-python",
   "name": "python",
   "nbconvert_exporter": "python",
   "pygments_lexer": "ipython3",
   "version": "3.8.12"
  },
  "orig_nbformat": 4
 },
 "nbformat": 4,
 "nbformat_minor": 2
}
