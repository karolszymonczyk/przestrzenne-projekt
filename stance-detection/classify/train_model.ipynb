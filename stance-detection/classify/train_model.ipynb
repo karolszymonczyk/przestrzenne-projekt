{
 "cells": [
  {
   "cell_type": "markdown",
   "metadata": {},
   "source": [
    "### Training MLP classifier"
   ]
  },
  {
   "cell_type": "code",
   "execution_count": 6,
   "metadata": {},
   "outputs": [],
   "source": [
    "import pandas as pd\n",
    "\n",
    "df_embedding = pd.read_json('../../data/embedded_train.jl', lines=True)\n",
    "# df_embedding = pd.read_json('../../data/embedded_train_clean.jl', lines=True)\n",
    "df_embedding.loc[df_embedding[\"target\"] == \"NA\", [\"target\"]] = 0  # added\n",
    "\n",
    "df_embedding['target'] = df_embedding['target'].astype(str)\n",
    "df_embedding = df_embedding.rename(columns={'id':'id_str'})\n",
    "df_embedding['id_str'] = df_embedding['id_str'].astype(str)"
   ]
  },
  {
   "cell_type": "code",
   "execution_count": 7,
   "metadata": {},
   "outputs": [],
   "source": [
    "from sklearn.preprocessing import LabelEncoder\n",
    "\n",
    "le = LabelEncoder()\n",
    "le.fit(df_embedding[\"target\"])\n",
    "df_embedding[\"target_label\"] = df_embedding[\"target\"].apply(lambda x: le.transform([x])[0])"
   ]
  },
  {
   "cell_type": "code",
   "execution_count": 8,
   "metadata": {},
   "outputs": [
    {
     "name": "stdout",
     "output_type": "stream",
     "text": [
      "{'-1': 0, '0': 1, '1': 2}\n"
     ]
    },
    {
     "data": {
      "image/png": "[encoded data removed]",
      "text/plain": [
       "<Figure size 432x288 with 1 Axes>"
      ]
     },
     "metadata": {
      "needs_background": "light"
     },
     "output_type": "display_data"
    }
   ],
   "source": [
    "import matplotlib\n",
    "\n",
    "print(dict(zip(le.classes_, range(len(le.classes_)))))\n",
    "df_embedding[\"target_label\"].value_counts().plot.bar();"
   ]
  },
  {
   "cell_type": "code",
   "execution_count": 35,
   "metadata": {},
   "outputs": [
    {
     "name": "stdout",
     "output_type": "stream",
     "text": [
      "The tensorboard extension is already loaded. To reload it, use:\n",
      "  %reload_ext tensorboard\n"
     ]
    },
    {
     "data": {
      "text/html": [
       "\n",
       "      <iframe id=\"tensorboard-frame-4a8ff3b57d54bab9\" width=\"100%\" height=\"800\" frameborder=\"0\">\n",
       "      </iframe>\n",
       "      <script>\n",
       "        (function() {\n",
       "          const frame = document.getElementById(\"tensorboard-frame-4a8ff3b57d54bab9\");\n",
       "          const url = new URL(\"/\", window.location);\n",
       "          const port = 8088;\n",
       "          if (port) {\n",
       "            url.port = port;\n",
       "          }\n",
       "          frame.src = url;\n",
       "        })();\n",
       "      </script>\n",
       "    "
      ],
      "text/plain": [
       "<IPython.core.display.HTML object>"
      ]
     },
     "metadata": {},
     "output_type": "display_data"
    }
   ],
   "source": [
    "%load_ext tensorboard\n",
    "\n",
    "%tensorboard --logdir lightning_logs/ --port 8088"
   ]
  },
  {
   "cell_type": "code",
   "execution_count": 30,
   "metadata": {},
   "outputs": [],
   "source": [
    "import torch\n",
    "import numpy as np\n",
    "import pandas as pd\n",
    "import pytorch_lightning as pl\n",
    "from torch.utils.data import DataLoader, TensorDataset\n",
    "from sklearn.model_selection import train_test_split\n",
    "from sklearn.preprocessing import LabelEncoder, StandardScaler\n",
    "from sklearn.decomposition import PCA\n",
    "from typing import Optional, Tuple\n",
    "\n",
    "\n",
    "class TweetsDataModule(pl.LightningDataModule):\n",
    "\n",
    "    def __init__(self, data_path: str=\"../../data\", test_size: float=0.2, batch_size: int=128):\n",
    "        super().__init__()\n",
    "        self.data_path = data_path\n",
    "        self.test_size = test_size\n",
    "        self.batch_size = batch_size\n",
    "        self.sample_map = None\n",
    "        self.le = LabelEncoder()\n",
    "        self.ss = StandardScaler()\n",
    "        # self.pca = PCA(213)  # compress to 213 features explaining 98% variance\n",
    "        # self.pca = PCA(173)  # compress to 173 features explaining 95% variance\n",
    "\n",
    "\n",
    "    def process_data(self, data):\n",
    "        self.le.fit(data[\"target\"])\n",
    "        y = data[\"target\"].apply(lambda x: self.le.transform([x])[0])\n",
    "\n",
    "        X = pd.DataFrame(data[\"embedding\"].tolist())\n",
    "        X = self.ss.fit_transform(X)\n",
    "        X = pd.concat([pd.DataFrame(X), data[\"id_str\"]], axis=1)\n",
    "\n",
    "        return X, y\n",
    "\n",
    "    def calc_sample_map(self, data):\n",
    "        self.sample_map = {idx: sample_id for idx, sample_id in enumerate(data[\"id_str\"].values.tolist())}\n",
    "        return data.drop(\"id_str\", axis=1)\n",
    "\n",
    "\n",
    "    def format_data(self, data):\n",
    "        return torch.from_numpy(np.vstack(data)).float()\n",
    "\n",
    "\n",
    "    def make_pca(self, train, test):\n",
    "        # self.pca.fit(train)\n",
    "        # train = self.pca.transform(train)\n",
    "        # test = self.pca.transform(test)\n",
    "\n",
    "        train = pd.DataFrame(train).values.tolist()\n",
    "        test = pd.DataFrame(test).values.tolist()\n",
    "\n",
    "        return train, test\n",
    "\n",
    "\n",
    "    def setup(self, stage: Optional[str] = None):\n",
    "        data = pd.read_json(self.data_path, lines=True)\n",
    "        data.loc[df_embedding[\"target\"] == \"NA\", [\"target\"]] = 0  # added\n",
    "\n",
    "        # added for new data\n",
    "        data['target'] = df_embedding['target'].astype(str)\n",
    "        data = df_embedding.rename(columns={'id':'id_str'})\n",
    "        data['id_str'] = df_embedding['id_str'].astype(str)\n",
    "\n",
    "        X, y = self.process_data(data)\n",
    "\n",
    "        X_train, X_test, y_train, y_test = train_test_split(X, y, test_size=0.2, stratify=y, random_state=42)\n",
    "\n",
    "        X_train = self.calc_sample_map(X_train)\n",
    "        X_test = X_test.drop(\"id_str\", axis=1)\n",
    "\n",
    "        X_train, X_test = self.make_pca(X_train, X_test)\n",
    "        self.X_train = self.format_data(X_train)\n",
    "        self.X_test = self.format_data(X_test)\n",
    "        self.y_train = self.format_data(y_train)\n",
    "        self.y_test = self.format_data(y_test)\n",
    "        \n",
    "    \n",
    "    def train_dataloader(self):\n",
    "        return DataLoader(TensorDataset(self.X_train, self.y_train), batch_size=self.batch_size)\n",
    "\n",
    "    def val_dataloader(self):\n",
    "        return DataLoader(TensorDataset(self.X_test, self.y_test), batch_size=self.batch_size)\n",
    "\n",
    "    def test_dataloader(self):\n",
    "        return DataLoader(TensorDataset(self.X_test, self.y_test), batch_size=self.batch_size)\n",
    "\n",
    "    def predict_dataloader(self):\n",
    "        return DataLoader(TensorDataset(self.X_test, self.y_test), batch_size=self.batch_size)\n",
    "\n",
    "    def get_test_sets(self):\n",
    "        return self.X_test, self.y_test\n",
    "\n",
    "    def get_batch_size(self):\n",
    "        return self.batch_size\n",
    "    \n",
    "    def get_label_encoder(self):\n",
    "        return self.le\n",
    "\n",
    "    def get_sample_map(self):\n",
    "        return self.sample_map"
   ]
  },
  {
   "cell_type": "code",
   "execution_count": 31,
   "metadata": {},
   "outputs": [],
   "source": [
    "from sklearn.metrics import f1_score, accuracy_score\n",
    "import torch.nn as nn\n",
    "\n",
    "\n",
    "class MLP(pl.LightningModule):\n",
    "  \n",
    "  def __init__(self, input_dim, hidden_dim, output_dim, lr=1e-4):\n",
    "    super().__init__()\n",
    "    self.input_dim = input_dim\n",
    "    self.hidden_dim = hidden_dim\n",
    "    self.lr = lr\n",
    "    \n",
    "    self.layers = nn.Sequential(\n",
    "      nn.Linear(input_dim, hidden_dim),\n",
    "      nn.ReLU(),\n",
    "      # nn.Linear(hidden_dim, hidden_dim),\n",
    "      # nn.ReLU(),\n",
    "      nn.Linear(hidden_dim, out_features=output_dim),\n",
    "      nn.Softmax(dim=1)\n",
    "    )\n",
    "    self.loss = nn.CrossEntropyLoss()\n",
    "\n",
    "  def forward(self, x):\n",
    "    return self.layers(x)\n",
    "  \n",
    "  def training_step(self, batch, batch_idx):\n",
    "    x, y = batch\n",
    "    y = y.flatten().type(torch.LongTensor)\n",
    "    y_hat = self(x)\n",
    "    loss = self.loss(y_hat, y)\n",
    "    self.log('train_loss', loss, on_epoch=True, on_step=False)\n",
    "    return {\"loss\": loss, \"logits\": y_hat.detach(), \"gold\": y, \"batch_idx\": batch_idx}\n",
    "\n",
    "  def validation_step(self, batch, batch_idx):\n",
    "    x, y = batch\n",
    "    y = y.flatten().type(torch.LongTensor)\n",
    "    y_hat = self(x)\n",
    "    loss = self.loss(y_hat, y)\n",
    "    y_hat = torch.argmax(self(x), 1)\n",
    "    f1 = f1_score(y.cpu(), y_hat.cpu(), average='micro')\n",
    "    acc = accuracy_score(y.cpu(), y_hat.cpu())\n",
    "    self.log(\"val_loss\", loss, prog_bar=True)\n",
    "    self.log(\"val_f1_micro\", f1, prog_bar=True)\n",
    "    self.log(\"val_acc\", acc, prog_bar=True)\n",
    "    return loss\n",
    "\n",
    "  def test_step(self, batch, batch_idx):\n",
    "    x, y = batch\n",
    "    y = y.flatten().type(torch.LongTensor)\n",
    "    y_hat = self(x)\n",
    "    y_hat = torch.argmax(self(x), 1)\n",
    "\n",
    "    report = classification_report(y, y_hat, output_dict=True)\n",
    "    self.log_dict(report)\n",
    "    return report\n",
    "\n",
    "  def training_epoch_end(self, outputs):\n",
    "      batch_size = self.trainer.datamodule.get_batch_size()\n",
    "      sample_map = self.trainer.datamodule.get_sample_map()\n",
    "\n",
    "      data = {\"guid\": [], f\"logits_epoch_{self.current_epoch}\": [], \"gold\": []}\n",
    "      for batch in outputs:\n",
    "        batch_idx = batch[\"batch_idx\"]\n",
    "        curr_batch_size = len(batch[\"logits\"])\n",
    "        data[\"guid\"] += [sample_map[batch_size*batch_idx + idx] for idx in range(curr_batch_size)]\n",
    "        data[f\"logits_epoch_{self.current_epoch}\"] += batch[\"logits\"].tolist()\n",
    "        data[\"gold\"] += batch[\"gold\"].tolist()\n",
    "\n",
    "      df = pd.DataFrame(data)\n",
    "      df.to_json(f\"./training_dynamics/dynamics_epoch_{self.current_epoch}.jsonl\", lines=True, orient='records')\n",
    "\n",
    "  def configure_optimizers(self):\n",
    "    return torch.optim.Adam(self.parameters(), lr=self.lr)\n",
    "\n",
    "  def predict_step(\n",
    "    self,\n",
    "    batch,\n",
    "    batch_idx: int,\n",
    "    dataloader_idx: Optional[int] = None,\n",
    "  ) -> Tuple[torch.Tensor, torch.Tensor]:\n",
    "    x, y = batch\n",
    "    z = self(x)\n",
    "    return z, y"
   ]
  },
  {
   "cell_type": "code",
   "execution_count": 33,
   "metadata": {},
   "outputs": [],
   "source": [
    "from pytorch_lightning.callbacks import ModelCheckpoint\n",
    "from pytorch_lightning import loggers as pl_loggers\n",
    "\n",
    "\n",
    "def train_model(dataloader, name, epochs=40, lr=1e-4):\n",
    "    AVAIL_GPUS = min(1, torch.cuda.device_count())\n",
    "    model = MLP(\n",
    "    #   input_dim=213,  # 768\n",
    "      input_dim=768,\n",
    "      hidden_dim=768,\n",
    "      output_dim=3,  # 4\n",
    "      lr=lr\n",
    "    )\n",
    "    checkpoint_callback = ModelCheckpoint(\n",
    "        monitor=\"val_loss\",\n",
    "        dirpath=\"../../data/mlp/\",\n",
    "        filename=name,\n",
    "        save_top_k=1,\n",
    "        mode=\"min\",\n",
    "    )\n",
    "    tb_logger = pl_loggers.TensorBoardLogger(\"lightning_logs/\", name=name, log_graph=True)\n",
    "    trainer = pl.Trainer(\n",
    "        max_epochs=epochs,\n",
    "        gpus=AVAIL_GPUS,\n",
    "        callbacks=[checkpoint_callback],\n",
    "        logger=tb_logger,\n",
    "    )\n",
    "    trainer.fit(model, dataloader)\n",
    "\n",
    "    return trainer"
   ]
  },
  {
   "cell_type": "code",
   "execution_count": 34,
   "metadata": {},
   "outputs": [
    {
     "name": "stderr",
     "output_type": "stream",
     "text": [
      "GPU available: False, used: False\n",
      "TPU available: False, using: 0 TPU cores\n",
      "IPU available: False, using: 0 IPUs\n",
      "Missing logger folder: lightning_logs/test_no_pca\n",
      "\n",
      "  | Name   | Type             | Params\n",
      "--------------------------------------------\n",
      "0 | layers | Sequential       | 592 K \n",
      "1 | loss   | CrossEntropyLoss | 0     \n",
      "--------------------------------------------\n",
      "592 K     Trainable params\n",
      "0         Non-trainable params\n",
      "592 K     Total params\n",
      "2.372     Total estimated model params size (MB)\n"
     ]
    },
    {
     "name": "stdout",
     "output_type": "stream",
     "text": [
      "Epoch 19: 100%|██████████| 79/79 [00:01<00:00, 47.76it/s, loss=0.622, v_num=0, val_loss=0.852, val_f1_micro=0.678, val_acc=0.678]\n"
     ]
    }
   ],
   "source": [
    "# data = TweetsDataModule(data_path='../../data/embedded_train.jl', batch_size=32)\n",
    "# data = TweetsDataModule(data_path='../../data/embedded_train_150.jl', batch_size=32)\n",
    "data = TweetsDataModule(data_path='../../data/embedded_train_150.jl', batch_size=32)\n",
    "\n",
    "# data = TweetsDataModule(data_path='../../data/embedded_train_clean.jl', batch_size=32)\n",
    "# trainer = train_model(data, 'mlp_demoji150_3c_pca_209_209_bs=32_lr-4', epochs=20, lr=1e-4)\n",
    "trainer = train_model(data, 'test_no_pca', epochs=20, lr=1e-4)\n",
    "# clear training_dynamics when changing epochs number"
   ]
  },
  {
   "cell_type": "markdown",
   "metadata": {},
   "source": [
    "#### Model evaluation"
   ]
  },
  {
   "cell_type": "code",
   "execution_count": 36,
   "metadata": {},
   "outputs": [],
   "source": [
    "def tf_count(t, val):\n",
    "    return t.tolist().count(0)"
   ]
  },
  {
   "cell_type": "code",
   "execution_count": 39,
   "metadata": {},
   "outputs": [],
   "source": [
    "import numpy as np\n",
    "from sklearn.metrics import classification_report\n",
    "\n",
    "def test_model(model, X, y, le):\n",
    "    model.eval()\n",
    "    with torch.no_grad():\n",
    "        preds = model(X)\n",
    "    preds = torch.argmax(preds, 1)\n",
    "    # print(tf_count(preds, 0))\n",
    "\n",
    "    return classification_report(y, preds, zero_division=0, target_names=le.classes_) "
   ]
  },
  {
   "cell_type": "code",
   "execution_count": 40,
   "metadata": {},
   "outputs": [],
   "source": [
    "# data = TweetsDataModule(data_path='../../data/embedded_train.jl')\n",
    "# rainer.test(model=mlp, dataloaders=data)"
   ]
  },
  {
   "cell_type": "code",
   "execution_count": 41,
   "metadata": {},
   "outputs": [
    {
     "name": "stdout",
     "output_type": "stream",
     "text": [
      "              precision    recall  f1-score   support\n",
      "\n",
      "          -1       0.62      0.59      0.61       120\n",
      "           0       0.68      0.70      0.69       183\n",
      "           1       0.71      0.71      0.71       197\n",
      "\n",
      "    accuracy                           0.68       500\n",
      "   macro avg       0.67      0.67      0.67       500\n",
      "weighted avg       0.68      0.68      0.68       500\n",
      "\n"
     ]
    }
   ],
   "source": [
    "X_test, y_test = data.get_test_sets()\n",
    "le = data.get_label_encoder()\n",
    "# mlp = MLP.load_from_checkpoint(checkpoint_path=f'../../data/mlp/mlp_newdata_3c_pca_213_213_bs=32_lr-4.ckpt', input_dim=213, hidden_dim=213, output_dim=3)\n",
    "mlp = MLP.load_from_checkpoint(checkpoint_path=f'../../data/mlp/test_no_pca.ckpt', input_dim=768, hidden_dim=768, output_dim=3)\n",
    "report = test_model(mlp, X_test, y_test, le)\n",
    "print(report)"
   ]
  },
  {
   "cell_type": "code",
   "execution_count": 47,
   "metadata": {},
   "outputs": [
    {
     "name": "stdout",
     "output_type": "stream",
     "text": [
      "0.0     239\n",
      "1.0     156\n",
      "-1.0    105\n",
      "dtype: int64\n"
     ]
    },
    {
     "data": {
      "image/png": "[encoded data removed]",
      "text/plain": [
       "<Figure size 432x288 with 1 Axes>"
      ]
     },
     "metadata": {
      "needs_background": "light"
     },
     "output_type": "display_data"
    }
   ],
   "source": [
    "df = pd.DataFrame(le.inverse_transform(np.array(y_test.flatten(), dtype='int32')))\n",
    "print(df.value_counts())\n",
    "df.value_counts().plot.bar();"
   ]
  },
  {
   "cell_type": "code",
   "execution_count": null,
   "metadata": {},
   "outputs": [],
   "source": []
  }
 ],
 "metadata": {
  "interpreter": {
   "hash": "af91805feb772e5ca358e0d7e8c046b76a3384a8e0392a1e50dac8eea804f488"
  },
  "kernelspec": {
   "display_name": "Python 3.8.12 64-bit ('AMC': conda)",
   "language": "python",
   "name": "python3"
  },
  "language_info": {
   "codemirror_mode": {
    "name": "ipython",
    "version": 3
   },
   "file_extension": ".py",
   "mimetype": "text/x-python",
   "name": "python",
   "nbconvert_exporter": "python",
   "pygments_lexer": "ipython3",
   "version": "3.8.12"
  },
  "orig_nbformat": 4
 },
 "nbformat": 4,
 "nbformat_minor": 2
}
