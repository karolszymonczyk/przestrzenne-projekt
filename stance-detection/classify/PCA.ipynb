{
 "cells": [
  {
   "cell_type": "code",
   "execution_count": 12,
   "metadata": {},
   "outputs": [],
   "source": [
    "import pandas as pd\n",
    "\n",
    "# df_embedding = pd.read_json('../../data/embedded_train_demoji_150.jl', lines=True)\n",
    "df_embedding = pd.read_json('../../data/embedded_train_150.jl', lines=True)"
   ]
  },
  {
   "cell_type": "code",
   "execution_count": 13,
   "metadata": {},
   "outputs": [],
   "source": [
    "df_embedding.loc[df_embedding[\"target\"] == \"NA\", [\"target\"]] = 0  # added\n",
    "\n",
    "df_embedding['target'] = df_embedding['target'].astype(str)\n",
    "df_embedding = df_embedding.rename(columns={'id':'id_str'})\n",
    "df_embedding['id_str'] = df_embedding['id_str'].astype(str)"
   ]
  },
  {
   "cell_type": "code",
   "execution_count": 14,
   "metadata": {},
   "outputs": [],
   "source": [
    "split_df = pd.DataFrame(df_embedding[\"embedding\"].tolist())\n",
    "df = pd.concat([split_df, df_embedding], axis=1)"
   ]
  },
  {
   "cell_type": "code",
   "execution_count": 15,
   "metadata": {},
   "outputs": [],
   "source": [
    "from sklearn.preprocessing import LabelEncoder\n",
    "\n",
    "le = LabelEncoder()\n",
    "le.fit(df[\"target\"])\n",
    "df[\"target\"] = df[\"target\"].apply(lambda x: le.transform([x])[0])"
   ]
  },
  {
   "cell_type": "code",
   "execution_count": 16,
   "metadata": {},
   "outputs": [],
   "source": [
    "additional = [\"id_str\", \"created_at\", \"full_text\", \"embedding\", \"target\"]\n",
    "x = df.drop(additional, axis=1).values\n",
    "y = df.loc[:, [\"target\"]].values"
   ]
  },
  {
   "cell_type": "code",
   "execution_count": 17,
   "metadata": {},
   "outputs": [],
   "source": [
    "from sklearn.preprocessing import StandardScaler\n",
    "\n",
    "x = StandardScaler().fit_transform(x)"
   ]
  },
  {
   "cell_type": "code",
   "execution_count": 18,
   "metadata": {},
   "outputs": [
    {
     "data": {
      "text/plain": [
       "213"
      ]
     },
     "execution_count": 18,
     "metadata": {},
     "output_type": "execute_result"
    }
   ],
   "source": [
    "from sklearn.decomposition import PCA\n",
    "\n",
    "pca = PCA(.98)\n",
    "pca.fit(x)\n",
    "pc = pca.transform(x)\n",
    "# transform test\n",
    "pca.n_components_\n",
    "# pca.explained_variance_ratio_\n",
    "\n",
    "# .98 -> 213 components\n",
    "# .95 -> 173 components\n",
    "# .90 -> 144 components\n",
    "# .80 -> 105 components"
   ]
  },
  {
   "cell_type": "code",
   "execution_count": null,
   "metadata": {},
   "outputs": [],
   "source": []
  }
 ],
 "metadata": {
  "interpreter": {
   "hash": "af91805feb772e5ca358e0d7e8c046b76a3384a8e0392a1e50dac8eea804f488"
  },
  "kernelspec": {
   "display_name": "Python 3.8.12 64-bit ('AMC': conda)",
   "language": "python",
   "name": "python3"
  },
  "language_info": {
   "codemirror_mode": {
    "name": "ipython",
    "version": 3
   },
   "file_extension": ".py",
   "mimetype": "text/x-python",
   "name": "python",
   "nbconvert_exporter": "python",
   "pygments_lexer": "ipython3",
   "version": "3.8.12"
  },
  "orig_nbformat": 4
 },
 "nbformat": 4,
 "nbformat_minor": 2
}
