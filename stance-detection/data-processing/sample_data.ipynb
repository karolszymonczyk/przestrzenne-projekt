{
 "cells": [
  {
   "cell_type": "code",
   "execution_count": 2,
   "metadata": {},
   "outputs": [],
   "source": [
    "import pandas as pd\n",
    "import datetime\n",
    "import numpy as np"
   ]
  },
  {
   "cell_type": "markdown",
   "metadata": {},
   "source": [
    "# Loading datasets\n",
    "\n",
    "In the first step all tweets and users will be loaded and merged."
   ]
  },
  {
   "cell_type": "code",
   "execution_count": 7,
   "metadata": {},
   "outputs": [],
   "source": [
    "tweets = pd.read_json('../../data/tweets.jsonl', lines=True, dtype=False)\n",
    "users = pd.read_json('../../data/users.jsonl', lines=True, dtype=False)\n",
    "annoted_data = pd.read_csv('../../data/tweets_train.tsv', sep='\\t', converters={'id_str': str})\n",
    "\n",
    "tweets['id'] = tweets['id_str']\n",
    "tweets = tweets.merge(users[['id_str', 'screen_name']], how='left', right_on='id_str', left_on='user_id_str').drop(columns=['id_str_x', 'id_str_y'])\n",
    "tweets = tweets.drop_duplicates(subset=['id'])\n",
    "\n",
    "tweets['full_text'] = tweets['full_text'].str.replace('\\n', ' ')"
   ]
  },
  {
   "cell_type": "code",
   "execution_count": 11,
   "metadata": {},
   "outputs": [],
   "source": [
    "tweets = tweets[~tweets.id.isin(annoted_data.id_str)]\n",
    "tweets = tweets[tweets.in_reply_to_screen_name.isnull()]"
   ]
  },
  {
   "cell_type": "code",
   "execution_count": 17,
   "metadata": {},
   "outputs": [],
   "source": [
    "tweets_pl = tweets[tweets.lang == 'pl']\n",
    "tweets_pl = tweets_pl[tweets_pl.created_at > datetime.datetime(2021, 8, 1)]\n",
    "tweets_pl = tweets_pl[~tweets_pl.full_text.str.contains('wieszwięcej')]\n"
   ]
  },
  {
   "cell_type": "markdown",
   "metadata": {},
   "source": [
    "### Media tweets\n",
    "\n",
    "Below we calculate how many tweets in the dataset are published by the most popular media websites in Poland."
   ]
  },
  {
   "cell_type": "code",
   "execution_count": 18,
   "metadata": {},
   "outputs": [
    {
     "data": {
      "text/plain": [
       "0.03985602094240838"
      ]
     },
     "execution_count": 18,
     "metadata": {},
     "output_type": "execute_result"
    }
   ],
   "source": [
    "media = [\"tvn24\",\"FaktyTVN\",\"tvp_info\",\"PolsatNewsPL\",\"wPolityce_pl\",\"OnetWiadomosci\",\"wirtualnapolska\",\"gazeta_wyborcza\",\"se_pl\",\"niezaleznapl\",\"gazetapl_news\",\"rzeczpospolita\",\"RMF24pl\",\"RadioZET_NEWS\",\"NewsweekPolska\",\"natematpl\",\"gazetaprawnapl\"]\n",
    "\n",
    "media_tweets = tweets_pl[tweets_pl.screen_name.isin(media)]\n",
    "non_media_tweets = tweets_pl[~tweets_pl.screen_name.isin(media)]\n",
    "media_tweets.shape[0]/tweets_pl.shape[0]"
   ]
  },
  {
   "cell_type": "markdown",
   "metadata": {},
   "source": [
    "### Tweets' distribution over months"
   ]
  },
  {
   "cell_type": "code",
   "execution_count": 19,
   "metadata": {},
   "outputs": [],
   "source": [
    "def get_month_dist(df: pd.DataFrame, col: str) -> np.array:\n",
    "  month_df = df[[col]].groupby(df[col].dt.month).agg(count=(col, 'count')).reset_index()\n",
    "  month_count = month_df['count'].to_numpy()\n",
    "  percentage = month_count / month_count.sum()\n",
    "  return percentage"
   ]
  },
  {
   "cell_type": "code",
   "execution_count": 20,
   "metadata": {},
   "outputs": [
    {
     "data": {
      "text/plain": [
       "array([0.12385471, 0.09803665, 0.15818063, 0.50788613, 0.11204188])"
      ]
     },
     "execution_count": 20,
     "metadata": {},
     "output_type": "execute_result"
    }
   ],
   "source": [
    "percentage = get_month_dist(tweets_pl, 'created_at')\n",
    "percentage"
   ]
  },
  {
   "cell_type": "code",
   "execution_count": 21,
   "metadata": {},
   "outputs": [
    {
     "data": {
      "text/plain": [
       "array([0.12252062, 0.09607389, 0.15844182, 0.50858837, 0.1143753 ])"
      ]
     },
     "execution_count": 21,
     "metadata": {},
     "output_type": "execute_result"
    }
   ],
   "source": [
    "percentage_non_media = get_month_dist(non_media_tweets, 'created_at')\n",
    "percentage_non_media"
   ]
  },
  {
   "cell_type": "code",
   "execution_count": 22,
   "metadata": {},
   "outputs": [
    {
     "data": {
      "text/plain": [
       "array([0.15599343, 0.1453202 , 0.15188834, 0.4909688 , 0.05582923])"
      ]
     },
     "execution_count": 22,
     "metadata": {},
     "output_type": "execute_result"
    }
   ],
   "source": [
    "percentage_media = get_month_dist(media_tweets, 'created_at')\n",
    "percentage_media"
   ]
  },
  {
   "cell_type": "markdown",
   "metadata": {},
   "source": [
    "The goal is to create labels for 2500 tweets. Although media tweets make about 3% of the whole dataset, it's been decided that they'll make 10% of the training dataset."
   ]
  },
  {
   "cell_type": "code",
   "execution_count": 23,
   "metadata": {},
   "outputs": [],
   "source": [
    "def sample_from_df(df: pd.DataFrame, dist, month_start: int) -> pd.DataFrame:\n",
    "  new_df = pd.DataFrame()\n",
    "  month_end = min(12, month_start + len(dist) - 1)\n",
    "  for month in range(month_start, month_end + 1):\n",
    "    sample = df[df['created_at'].dt.month ==\n",
    "                month].sample(n=int(dist[month-month_start]))\n",
    "    new_df = pd.concat([new_df, sample])\n",
    "  return new_df\n"
   ]
  },
  {
   "cell_type": "code",
   "execution_count": 24,
   "metadata": {},
   "outputs": [],
   "source": [
    "media_sample_df = sample_from_df(media_tweets, (percentage_media * 250).round(), 8)\n",
    "non_media_sample_df = sample_from_df(non_media_tweets, (percentage_non_media * 2250).round(), 8)"
   ]
  },
  {
   "cell_type": "code",
   "execution_count": 27,
   "metadata": {},
   "outputs": [],
   "source": [
    "train_df = pd.concat([media_sample_df, non_media_sample_df])\n",
    "train_df['target'] = 'NA'"
   ]
  },
  {
   "cell_type": "code",
   "execution_count": 34,
   "metadata": {},
   "outputs": [],
   "source": [
    "train_df = train_df.sample(frac=1)\n",
    "train_df.to_csv('../../data/annotate_no_reply.tsv', sep='\\t', index=False, columns=['id', 'created_at', 'full_text', 'target'])"
   ]
  }
 ],
 "metadata": {
  "interpreter": {
   "hash": "3891a413c9413807c1dd9657114be1b483746a632775f2fb4ed6f769f0aee0d8"
  },
  "kernelspec": {
   "display_name": "Python 3.9.7 64-bit (conda)",
   "language": "python",
   "name": "python3"
  },
  "language_info": {
   "codemirror_mode": {
    "name": "ipython",
    "version": 3
   },
   "file_extension": ".py",
   "mimetype": "text/x-python",
   "name": "python",
   "nbconvert_exporter": "python",
   "pygments_lexer": "ipython3",
   "version": "3.9.7"
  },
  "orig_nbformat": 4
 },
 "nbformat": 4,
 "nbformat_minor": 2
}
