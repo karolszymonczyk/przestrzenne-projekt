{
 "cells": [
  {
   "cell_type": "code",
   "execution_count": 4,
   "metadata": {},
   "outputs": [],
   "source": [
    "import pandas as pd\n",
    "from sklearn.model_selection import train_test_split"
   ]
  },
  {
   "cell_type": "code",
   "execution_count": 21,
   "metadata": {},
   "outputs": [],
   "source": [
    "annotators_df = pd.read_csv('../../data/original_data.tsv', sep='\\t', converters={'target': str, 'id': str})\n",
    "tweets_df = pd.read_csv('../../data/tweets_train.tsv', sep='\\t', converters={'target': str, 'id_str': str})"
   ]
  },
  {
   "cell_type": "code",
   "execution_count": 30,
   "metadata": {},
   "outputs": [],
   "source": [
    "test_df = tweets_df[tweets_df['full_text'].isin(annotators_df.full_text)]\n",
    "rest_df = tweets_df[~tweets_df['full_text'].isin(annotators_df.full_text)]"
   ]
  },
  {
   "cell_type": "code",
   "execution_count": 39,
   "metadata": {},
   "outputs": [],
   "source": [
    "train, test2_df = train_test_split(rest_df, test_size=0.13, stratify=rest_df['target'])"
   ]
  },
  {
   "cell_type": "code",
   "execution_count": 40,
   "metadata": {},
   "outputs": [],
   "source": [
    "test_df = pd.concat([test_df, test2_df])"
   ]
  },
  {
   "cell_type": "code",
   "execution_count": 48,
   "metadata": {},
   "outputs": [],
   "source": [
    "train.to_csv('../../data/tweets_train2.tsv', sep='\\t', index=False)\n",
    "test_df.to_csv('../../data/tweets_test2.tsv', sep='\\t', index=False)"
   ]
  }
 ],
 "metadata": {
  "interpreter": {
   "hash": "3891a413c9413807c1dd9657114be1b483746a632775f2fb4ed6f769f0aee0d8"
  },
  "kernelspec": {
   "display_name": "Python 3.9.7 64-bit (conda)",
   "language": "python",
   "name": "python3"
  },
  "language_info": {
   "codemirror_mode": {
    "name": "ipython",
    "version": 3
   },
   "file_extension": ".py",
   "mimetype": "text/x-python",
   "name": "python",
   "nbconvert_exporter": "python",
   "pygments_lexer": "ipython3",
   "version": "3.9.7"
  },
  "orig_nbformat": 4
 },
 "nbformat": 4,
 "nbformat_minor": 2
}
