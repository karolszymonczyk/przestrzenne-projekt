{
 "cells": [
  {
   "cell_type": "code",
   "execution_count": 1,
   "metadata": {},
   "outputs": [],
   "source": [
    "import pandas as pd\n",
    "import geocoder"
   ]
  },
  {
   "cell_type": "code",
   "execution_count": 3,
   "metadata": {},
   "outputs": [],
   "source": [
    "users = pd.read_json('./data/users.jsonl', lines=True)"
   ]
  },
  {
   "cell_type": "code",
   "execution_count": 6,
   "metadata": {},
   "outputs": [
    {
     "name": "stdout",
     "output_type": "stream",
     "text": [
      "<class 'pandas.core.frame.DataFrame'>\n",
      "RangeIndex: 33774 entries, 0 to 33773\n",
      "Data columns (total 12 columns):\n",
      " #   Column             Non-Null Count  Dtype         \n",
      "---  ------             --------------  -----         \n",
      " 0   name               33774 non-null  object        \n",
      " 1   created_at         33774 non-null  datetime64[ns]\n",
      " 2   description        33774 non-null  object        \n",
      " 3   download_datetime  33774 non-null  object        \n",
      " 4   favourites_count   33774 non-null  int64         \n",
      " 5   followers_count    33774 non-null  int64         \n",
      " 6   friends_count      33774 non-null  int64         \n",
      " 7   id_str             33774 non-null  int64         \n",
      " 8   lang               0 non-null      float64       \n",
      " 9   location           33774 non-null  object        \n",
      " 10  media_count        33774 non-null  int64         \n",
      " 11  screen_name        33774 non-null  object        \n",
      "dtypes: datetime64[ns](1), float64(1), int64(5), object(5)\n",
      "memory usage: 3.1+ MB\n"
     ]
    }
   ],
   "source": [
    "users.info()"
   ]
  }
 ],
 "metadata": {
  "interpreter": {
   "hash": "9a36b8e5fe48f99e744fe746266f781c6bae19111ffa543cff91b0d8a5d1896d"
  },
  "kernelspec": {
   "display_name": "Python 3.9.6 64-bit (conda)",
   "language": "python",
   "name": "python3"
  },
  "language_info": {
   "codemirror_mode": {
    "name": "ipython",
    "version": 3
   },
   "file_extension": ".py",
   "mimetype": "text/x-python",
   "name": "python",
   "nbconvert_exporter": "python",
   "pygments_lexer": "ipython3",
   "version": "3.9.9"
  },
  "orig_nbformat": 4
 },
 "nbformat": 4,
 "nbformat_minor": 2
}
